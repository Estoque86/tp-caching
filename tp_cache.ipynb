{
 "cells": [
  {
   "cell_type": "code",
   "execution_count": 1,
   "metadata": {
    "collapsed": true,
    "hideCode": true,
    "hidePrompt": true
   },
   "outputs": [],
   "source": [
    "%matplotlib inline\n",
    "\n",
    "from ipywidgets import interact, interactive, fixed, interact_manual, IntSlider\n",
    "from IPython.display import clear_output, display, HTML\n",
    "\n",
    "import math\n",
    "import numpy as np\n",
    "import timeit\n",
    "\n",
    "from scipy import integrate\n",
    "from scipy.optimize import fsolve\n",
    "\n",
    "from matplotlib import pyplot as plt\n",
    "from mpl_toolkits.mplot3d import Axes3D\n",
    "from matplotlib.colors import cnames\n",
    "from matplotlib import animation\n",
    "\n",
    "from itertools import takewhile\n",
    "\n",
    "from __future__ import division\n",
    "\n",
    "## LRU cache hit ratio withChe's approximation ##\n",
    "def solve_lru_che(M=1000, C=10, A=1.2):\n",
    "    \n",
    "    start_time = timeit.default_timer()\n",
    "    \n",
    "    # Zipf's distribution\n",
    "    pdf = np.arange(1.0, M + 1.0) ** -A\n",
    "    pdf /= np.sum(pdf)\n",
    "    contents = range(len(pdf))\n",
    "    \n",
    "    #p = np.percentile(pdf,95)\n",
    "    #print p\n",
    "\n",
    "    #print(\"--- Catalog Cardinality M =\", M, \" ---\")\n",
    "    #print(\"--- Cache Size C =\", C, \" ---\")\n",
    "    #print(\"--- Zipf's Exponent \\u03B1 =\", A, \" ---\\n\")\n",
    "\n",
    "    # Che's Characteristic Time\n",
    "    def tc_calc(T_C):\n",
    "        return sum(math.exp(-pdf[j] * T_C) for j in range(len(pdf))) \\\n",
    "            - len(pdf) + C\n",
    "\n",
    "    T_C = fsolve(tc_calc, x0=C)[0]\n",
    "        \n",
    "    print(\"Characteristic Time TC = %.2f\" % T_C)\n",
    "\n",
    "    # Che's Hit Ratio\n",
    "    h_c = [1 - math.exp(-pdf[i] * T_C) for i in contents]\n",
    "    h = sum(pdf[i] * h_c[i] for i in range(len(pdf)))\n",
    "\n",
    "    elapsed = timeit.default_timer() - start_time\n",
    "    \n",
    "    print(\"Average Hit Ratio h(LRU) = %.2f\" % (h*100), \"%\\n\")\n",
    "    print(\"Elapsed Time = %.4f\" % elapsed, \"s\\n\")\n",
    "    \n",
    "    #return h \n",
    "\n",
    "## LFU cache hit ratio ##\n",
    "def solve_lfu(M=1000, C=10, A=1.2):\n",
    "    \n",
    "    start_time = timeit.default_timer()\n",
    "    \n",
    "    # Zipf's distribution\n",
    "    pdf = np.arange(1.0, M + 1.0) ** -A\n",
    "    pdf /= np.sum(pdf)\n",
    "    contents = range(len(pdf))\n",
    "\n",
    "    #print(\"--- Catalog Cardinality M =\", M, \" ---\")\n",
    "    #print(\"--- Cache Size C =\", C, \" ---\")\n",
    "    #print(\"--- Zipf's Exponent \\u03B1 =\", A, \" ---\\n\")\n",
    "    \n",
    "    # Exact formula \n",
    "    h_lfu = sum(sorted(pdf, reverse=True)[:C]) \n",
    "    \n",
    "    elapsed = timeit.default_timer() - start_time\n",
    "    \n",
    "    print(\"Average Hit Ratio h(LFU) = %.2f\" % (h_lfu*100), \"%\\n\")\n",
    "    print(\"Elapsed Time = %.4f\" % elapsed, \"s\\n\")\n",
    "    \n",
    "    #return h_lfu\n",
    "    \n",
    "## LFU cache hit ratio - Approximate Solution ##\n",
    "def solve_lfu_approx(M=1000, C=10, A=1.2):\n",
    "    \n",
    "    start_time = timeit.default_timer()\n",
    "    \n",
    "    if A == 1:\n",
    "        h_lfu_app = np.log(C) / np.log(M)\n",
    "    elif A < 1:   ## Not sure to put this...it really sucks for low C and M\n",
    "        h_lfu_app = (C/M)**(1-A)\n",
    "    else:\n",
    "        h_lfu_app = solve_lfu(M, C, A)\n",
    "        \n",
    "    elapsed = timeit.default_timer() - start_time\n",
    "        \n",
    "    print(\"Average Hit Ratio h(LFU_APPROX) = %.2f\" % (h_lfu_app*100), \"%\\n\")\n",
    "    print(\"Elapsed Time = %.4f\" % elapsed, \"s\\n\")"
   ]
  },
  {
   "cell_type": "markdown",
   "metadata": {
    "hideCode": true,
    "hidePrompt": true
   },
   "source": [
    "# PART 1 - Caching: What, Why, and How\n",
    "\n",
    "The _hit ratio_ $h$, and so the resulting user experience connected to the performance of a caching system, is the result of multiple factors interplaying with each other, as shown in Fig. \\MT{Add a figure with a sum of all factors giving the final hit ratio}. Well known classes of each factor are listed in the following.\n",
    "\n",
    "## Content Popularity\n",
    "The context a caching system is used in, and especially _how_ requests are issued for contents identified by a particular  _popularity distribution_, represents one of the influencing factors for the final hit ratio $h$.\n",
    "\n",
    " * __Zipf's law__ \n",
    "    \n",
    "    It is considered as the de facto popularity distribution (along with Weibull and Mandelbrot-Zipf ones) that best approximates the dynamics of common Internet services, from popularity of requested contents in a P2P network or in a CDN, to distribution of requests for websites, or popularity of videos in a streaming platform.   \n",
    "    In particular, denoting with $M$ the _catalog cardinality_, and with $1 \\le i \\le M$ the rank of the $i$-th most popular content, the probability of requesting the content with rank $i$ is expressed as:\n",
    "    \\begin{equation}\n",
    "    P(X=i)=\\frac{i^{-\\alpha}}{B}.\n",
    "    \\label{eq:zpf}\n",
    "    \\end{equation}    \n",
    "    where $B=1/\\sum_{j=1}^M{j^{-\\alpha}}$, and $\\alpha > 0$.   \n",
    "    Clearly, the value of the Zipf exponent $\\alpha$ plays a paramount role in determining the caching performance; indeed, the percentage of requests directed to the $C$ most popular contents, i.e., $P(C)=\\sum_{i=1}^C{P(X=i)}$, heavily varies with $\\alpha$.  \n",
    "    For large values of $\\alpha$, e.g., $\\alpha=2$, and supposing a catalog with a cardinality of $M=10^8$ contents, $C=12$ represents the content correspondent to the 95-th percentile of requests, meaning that 95\\% of requests are directed towards only the $C=12$ most popular contents (as $\\sum_{i=1}^{12}{P(X=i)} > 0.95 \\ \\ for \\ \\ \\alpha=2$). At the same time, with $\\alpha=0.8$, for example, the head of the catalog for which the 95\\% of requests is directed becomes much wider, being $C=$ <span style=\"color:blue\">\\MT{complete}</span>.  \n",
    "    It can be concluded that the higher $\\alpha$, the smaller the size of the cache needed to guarantee a certain hit ratio $h$.   \n",
    "    \n",
    "    It is worth noticing, also, that the whole Internet traffic is made of a mixture of different \"types\" of traffic (Web, P2P, Video, etc.), each one with a specific set of parameters, content popularity (expressed in terms of request frequency) being one of them. This is the reason why there is neither a single $\\alpha$ value that characterizes all the scenarios above, nor a broad consensus on the particular $\\alpha$ that needs to be use to model each type of traffic. Empirical studies have tried to provide intervals for each application: for example, for Web and File Sharing traffic $\\alpha \\in [0.6,0.85]$, for VoD $\\alpha \\in [0.65,1]$, and for UGC $\\alpha \\ge 2$ <span style=\"color:blue\">[DraftPentikousis:16]</span>.\n",
    "    \n",
    "## Temporal Locality\n",
    "The temporal dynamics of popularity, i.e., how requests are distributed in time, complement the information provided by popularity distribution, which expresses only the number of requests submitted for each content, without describing how these requests are distributed in time. This aspect is of primary importance when considering the performance of caching schemes since the ordering of the requests obviously affects the contents that will be stored inside the cache. \n",
    "There exists several models used to characterize the pattern of requests arriving at a cache:\n",
    "\n",
    "* __Independent Reference Model (IRM)__\n",
    "\n",
    "This model, widely adopted in the literature due to its simplicity, is based on the following fundamental assumptions: i) users request items from a fixed catalog of $M$ objects; ii) the probability $P(X=m)$ that a request is for object $m$, $1 \\le m \\le M$, is constant (i.e., the object popularity does not vary over time) and independent of all past requests, generating an i.i.d. sequence of requests.\n",
    "It results that the IRM completely ignores all temporal correlations in the sequence of requests (aka temporal locality), i.e., the fact that, if an object is requested at a given point in time, then it is more likely that the same object will be requested again in the near future (a characteristic that increase the hit ratio $h$ of a cache).\n",
    "\n",
    "* __Shot Noise Model (SNM)__ <span style=\"color:blue\">[garetto15infocom]</span>\n",
    "\n",
    "The basic idea is to represent the overall request process as the superposition of many independent processes (shots), each referring to an individual content. Specifically, the arrival process of requests for a given content $m$ at a cache is described by an inhomogeneous Poisson process of intensity $V_m h(t - t_m)$, where $V_m$ denotes the average number of requests attracted by the content, $t_m$ is the time instant at which the content enters the system (i.e., it becomes available to the users), and $h()$ is the (normalized) \"popularity profile\" of content $m$. The SNM models, in this way, the evolution of content popularity over time.\n",
    "\n",
    "## Spatial Locality\n",
    "It refers to the way requests are geographically distributed throughout the network. \n",
    "Being able to characterize request patterns in different areas of the network might help avoiding redundant traffic in the network itself; indeed, if requests are highly localized in some areas of the entire network, then similar requests can be more efficiently served with mechanisms such as caching.\n",
    "\n",
    "## Replacement Policy\n",
    "Since caches have a limited amount of space to store contents (which we suppose being equal to $C$ contents), we need a _replacement policy_ to decide which content needs to be evicted when the cache is full and a new content needs to be stored. \n",
    "Among several techniques, the most adopted and studied ones are:  \n",
    "* __LFU__: in its classic implementation, a _Least Frequently Used_ cache keeps track of the access frequency by assigning a counter to each stored content, and evicting the one with the lowest counter when the cache is full. Furthermore, if the content popularity is known a priori, a LFU cache can be implemented by statically storing the $C$ most popular contents, thus providing optimal performance under IRM. However, a pure LFU system is discouraged in real contexts with evolving popularity (e.g., newly cached items with low counters might be soon evicted even though they might be required frequently thereafter). \n",
    "* __LRU__: a _Least Recently Used_ cache will evict the content that has not been requested for the longest time, in case a new content needs to be inserted in the cache, and there are already $C$ contents stored in it. This means that each time a cached content is requested, its timer is updated. A LRU cache provides the best compromise between performance and easy implementation.   \n",
    "* __FIFO__: in this case, the timer of cached contents is not updated in case of a cache hit; as a consequence, the content that has been inserted since the longest time is evicted if the cache is full.\n",
    "* __RANDOM__: the content to be evicted in case of a full cache is selected randomly.\n",
    "\n",
    "\n",
    "## Admission Policy\n",
    "The effective storage of a newly arrived content inside the cache can be regulated by an _admission policy_, which might be related or not to the \"position\" of the cache itself inside the whole network topology.  \n",
    "The most diffused techniques are:  \n",
    "* __LCE__: with _Leave Copy Everywhere_, a newly arrived content is aways cached, if not already stored inside the cache.\n",
    "* __LCP__: _Leave Copy Probabilistically_ adds a filter to LCE, in the sense that a newly arrived content will be cached only with probability $p$, a parameter that can be set in order to change the caching behavior and reduce the so called _cache pollution_ (i.e., the worthless caching of unpopular contents). \n",
    "* __2-LRU__: a more affective way than LCP to reduce cache pollution is provided by this strategy <span style=\"color:blue\">[martina14infocom]</span>; before the physical cache, where actual objects are stored, there is a second cache where only content IDs of incoming requests are stored following a LRU policy. Therefore, only contents whose ID is found in the first cache are then cached in the physical one when fetched from upstream nodes. This provides a self-tuning filter that reduces cache pollution and which can cope with the temporal evolution of content popularity.     \n",
    "* __LCD__: in a hierarchical network of caches, the _Leave Copy Down_ strategy leaves a copy of the requested content only inside the cache which is one hop below the cache the content has been found in. \n",
    "\n",
    "\n",
    "# PART 2 - Cost and errors of computing Cache Hit Ratio $h$ \n",
    "With notions of PART 1, we are now ready to go one step further and have a quick overview of the available analytical tools used to compute the _cache hit ratio_ $h$. \n",
    "In particular, we are interested in their computational complexity and in assessing potential errors that can be introduced when relying on simplifications. \n",
    "Due to the numerous and diverse scenarios that might result from the combination of the different factors seen above, in this TP we will make the following assumptions:  \n",
    "(i) we consider a system composed by a _single cache_ under  \n",
    "(ii) an IRM request model, and  \n",
    "(iii) we focus on the specific aspect of _replacement policies_, considering LFU and LRU as case studies.  \n",
    "\n",
    "## LFU\n",
    "As seen in PART 1, the quantile of the Zipf distribution for an object of rank $C$ of a catalog with cardinality $M$ can be written as:\n",
    "\n",
    "\\begin{equation}\\label{quantile}\n",
    "P(C)=\\frac{\\sum_{k=1}^C{1/k^\\alpha}}{\\sum_{k=1}^M{1/k^\\alpha}},  \n",
    "\\end{equation}\n",
    "\n",
    "which also represents the aggregate rate for the $C$ most popular contents.\n",
    "Considering that a single LFU cache with size $C$ statically stores the $C$ most popular contents, it results that Eq. (\\ref{quantile}) also corresponds to the _cache hit ratio_ $h$ of that cache:\n",
    "\n",
    "\\begin{equation}\\label{hit_lfu}\n",
    "h_{LFU} = P(C)\n",
    "\\end{equation}\n",
    "\n",
    "As soon as $M$ and $C$ becomes comparable to real values found in a CDN (e.g., $M>10^6$), the computational complexity of Eq. (\\ref{hit_lfu}) starts to increase remarkably.\n",
    "You can have a direct experience by executing the following configurable example!\n"
   ]
  },
  {
   "cell_type": "code",
   "execution_count": 3,
   "metadata": {
    "hideCode": true,
    "hidePrompt": true
   },
   "outputs": [
    {
     "data": {
      "application/vnd.jupyter.widget-view+json": {
       "model_id": "f012f3c766ca4809839094cb20947bab"
      }
     },
     "metadata": {},
     "output_type": "display_data"
    }
   ],
   "source": [
    "#%%time\n",
    "h3 = interact_manual(solve_lfu, M=[1e4, 1e5, 1e6, 1e7, 1e8, 1e9], \\\n",
    "                     C=[10, 100, 1000, 10000, 100000, 1000000], \\\n",
    "                     A=[0.8, 1.0, 1.2])\n",
    "#display(h3)"
   ]
  },
  {
   "attachments": {
    "QuellaSporcaDozzina.png": {
     "image/png": "[encoded data removed]"
    }
   },
   "cell_type": "markdown",
   "metadata": {
    "hideCode": true,
    "hidePrompt": true
   },
   "source": [
    "However, depending on the value of the Zipf exponent $\\alpha$, it is possible to find a closed form expression for $h_{LFU}$ which approximates the exact result seen before.\n",
    "\n",
    "* __$\\alpha = 1$__\n",
    "  \n",
    "  In this case, numerator and denominator of Eq. (\\ref{quantile}) correspond to the Harmonic numbers $H_C = \\sum_{k=1}^C  1/k$ (and $H_M$), which are known to be well approximated asymptotically by a logarithmic function, since\n",
    "  \n",
    "  \\begin{align}\n",
    "  \\lim_{X\\rightarrow \\infty} H_X  - ln(X) = \\gamma ,\n",
    "  \\end{align}\n",
    "  \n",
    "  where $\\gamma\\approx 0.57$ is the Euler-Mascheroni constant. Hence, in the large $C$ and $M$ regime, we have:\n",
    "  \n",
    "  \\begin{align}\\label{lfu_app}\n",
    "  h^{app}_{LFU}\\approx ln(C)/ln(M). \n",
    "  \\end{align}\n",
    "\n",
    "  The plot below compares the true hit ratio $h$ computed with the exact formula of Eq. (\\ref{hit_lfu}) for a fixed size cache $C$ and varying $M$ against its approximation shown in Eq. (\\ref{lfu_app}). It can be noticed that despite (i) this approximation works as better as $C$ and $M$ increase, (ii) a non-negligible error persists in every case. There is, indeed, a compromise to accept between computational ease and prediction error. \n",
    "\n",
    "    ![QuellaSporcaDozzina.png](attachment:QuellaSporcaDozzina.png)\n",
    "\n",
    "\n",
    "* __$\\alpha < 1$__\n",
    "\n",
    "  In this particular case, the harmonic number can be approximated as:\n",
    "  \n",
    "  \\begin{equation}\n",
    "  H_C \\approx \\int_{1}^{C} 1/x^{\\alpha} dx = \\frac{x^{(1-\\alpha)}}{1-\\alpha} = \\frac{C^{(1-\\alpha)}}{1-\\alpha}\n",
    "  \\end{equation}\n",
    "  \n",
    "  It follows that:\n",
    "  \n",
    "  \\begin{equation}\\label{eq:lfu_app_ah1}\n",
    "  h^{app}_{LFU} \\approx \\frac{C^{(1-\\alpha)}}{M^{1-\\alpha}} = \\left(\\frac{C}{M}\\right)^{1-\\alpha}\n",
    "  \\end{equation}\n",
    "\n",
    "  It is worth noticing that the approximation shown in Eq. (\\ref{eq:lfu_app_ah1}) comes with a higher absolute error (i.e., $|h_{LFU}-h^{app}_{LFU}|$) with respect to the approximation of Eq. (\\ref{lfu_app}) <span style=\"color:blue\">[Insert an explicative plot]</span>\n",
    "  \n",
    "\n",
    "    \\begin{figure}[t] \n",
    "    \\centering\n",
    "    \\includegraphics[width=0.7\\textwidth]{QuellaSporcaDozzina.pdf}\n",
    "    \\caption{Single LFU cache with fixed size $C$ and varying cardinality $M$. True hit ratio $h_{LFU}$ vs its approximation $h^{app}_{LFU}$ for $\\alpha=1$.}\n",
    "    \\label{fig:lfu_approx_a1}\n",
    "    \\end{figure} \n",
    "    \n",
    "* __$\\alpha > 1$__\n",
    "\n",
    "    There exists no approximation for this case.\n",
    "    \n",
    "You can compare accuracy and execution time w.r.t. the exact solution through the following solver: \n",
    "    "
   ]
  },
  {
   "cell_type": "code",
   "execution_count": 4,
   "metadata": {
    "hideCode": true,
    "hidePrompt": true
   },
   "outputs": [
    {
     "data": {
      "application/vnd.jupyter.widget-view+json": {
       "model_id": "3ddfb26d988c465b98c34da5ccef6beb"
      }
     },
     "metadata": {},
     "output_type": "display_data"
    }
   ],
   "source": [
    "#%%time\n",
    "h3 = interact_manual(solve_lfu_approx, M=[1e4, 1e5, 1e6, 1e7, 1e8, 1e9], \\\n",
    "                     C=[10, 100, 1000, 10000, 100000, 1000000], \\\n",
    "                     A=[0.8, 1.0])\n",
    "#display(h3)"
   ]
  },
  {
   "cell_type": "markdown",
   "metadata": {
    "hideCode": true,
    "hidePrompt": true
   },
   "source": [
    "## LRU\n",
    "The computational complexity of exactly predicting the cache hit ratio $h$ for a single cache with LRU replacement policy lies in the exponential growth with cache size $C$ or with catalog cardinality $M$ <span style=\"color:blue\">[King:71]</span>, which makes impossible to obtain the final results in a reasonable amount of time for real scenarios (i.e., with $M \\ge 10^8$).\n",
    "Therefore, the only feasible way to obtain a reference point is by simulation. \n",
    "However, plenty of models and approximations have been proposed so far, among which Che's approximation <span style=\"color:blue\">[wang02jsac_hierarchical]</span> represents the most adopted and effective one. It was initially conceived for a single cache with LRU replacement policy and IRM traffic, and then successively extended for other traffic types, replacement and admission policies <span style=\"color:blue\">[martina14infocom]</span>.\n",
    "\n",
    "### Che's Approximation <span style=\"color:blue\">[wang02jsac_hierarchical]</span>\n",
    "\n",
    "The core intuition is that of considering the eviction time $T_C(m)$ for content $m$, with $1 \\le m \\le M$, as if it was a constant value $T_C$, known as \"characteristic time\", independent of the content $m$. In particular, $T_C(m)$ can be considered for a cache of size $C$ as the time needed before $C$ distinct contents (excluding $m$) are requested, i.e., the time since the last request (for $m$) after which content $m$ will be evicted (provided that it has not been requested in the meanwhile).  \n",
    "Che's assumption greatly simplifies the analysis of caching systems because it allows to decouple the dynamics of different contents: the interaction among contents is summarized by $T_C$, which acts as a single primitive quantity representing the response of the whole cache to an object request.  \n",
    "Formally speaking, Che's approximation states that an object $m$ is in the cache at time $t$, if and only if a time smaller than $T_C$ has elapsed since the last request for object $m$, i.e., if at least a request for $m$ has arrived in the interval $(t - T_C, t]$. Under the assumption that requests for object $m$ arrive according to a Poisson process of rate $\\lambda_m$, the time-average probability $p_{in}(m)$ that object $m$ is in the cache is given by:\n",
    "\n",
    "\\begin{equation}\\label{eq:pin}\n",
    "p_{in}(m) = 1 - e^{-\\lambda_m T_C}\n",
    "\\end{equation}\n",
    "\n",
    "It is worth noticing that $p_{in}(m)$ represents also the hit probability $p_{hit}(m)$ (thanks to PASTA's property), i.e., the probability that a request for content $m$ finds content $m$ inside the cache.  \n",
    "Denoting  with $\\mathbb{1}_{\\text{\\{A\\}}}$ the indicator function for event $A$, we have that by construction, cache size $C$ must satisfy:\n",
    "\n",
    "\\begin{equation}\\label{eq:TC}\n",
    "C=\\mathbb{E}\\left[ \\sum_m \\mathbb{1}_{\\{\\text{$m$ in cache at t}\\}}\\right]= \\sum\\limits_{m} p_{in}(\\lambda_m,T_C).\n",
    "\\end{equation} \n",
    "\n",
    "It follows that the characteristic time $T_C$ can be computed by numerically inverting Eq. \\ref{eq:TC}, which admits a single solution<span style=\"color:blue\">[wang02jsac_hierarchical]</span>.\n",
    "\n",
    "The _average hit probability_ $h$ of a LRU cache is then:\n",
    "\n",
    "\\begin{equation}\n",
    "h = \\sum_m p_m p_{hit(m)}\n",
    "\\end{equation}\n",
    "\n",
    "You can directly test the efficiency of Che's approximation by using the following solver:"
   ]
  },
  {
   "cell_type": "code",
   "execution_count": 25,
   "metadata": {
    "hideCode": true,
    "hidePrompt": true
   },
   "outputs": [
    {
     "data": {
      "application/vnd.jupyter.widget-view+json": {
       "model_id": "4ec8f9173f924599a5a63439a1832eb6"
      }
     },
     "metadata": {},
     "output_type": "display_data"
    }
   ],
   "source": [
    "#%%time\n",
    "h2 = interact_manual(solve_lru_che, M=[1e4, 1e5, 1e6, 1e7, 1e8, 1e9], \\\n",
    "                     C=[10, 100, 1000, 10000, 100000, 1000000], \\\n",
    "                     A=[0.8, 1.0, 1.2])\n",
    "#display(h2)"
   ]
  },
  {
   "cell_type": "code",
   "execution_count": null,
   "metadata": {
    "collapsed": true,
    "hideCode": true,
    "hidePrompt": true
   },
   "outputs": [],
   "source": []
  }
 ],
 "metadata": {
  "celltoolbar": "Hide code",
  "hide_code_all_hidden": true,
  "kernelspec": {
   "display_name": "Python 3",
   "language": "python",
   "name": "python3"
  },
  "language_info": {
   "codemirror_mode": {
    "name": "ipython",
    "version": 3
   },
   "file_extension": ".py",
   "mimetype": "text/x-python",
   "name": "python",
   "nbconvert_exporter": "python",
   "pygments_lexer": "ipython3",
   "version": "3.5.1"
  },
  "widgets": {
   "application/vnd.jupyter.widget-state+json": {
    "state": {
     "0538f1cac3c24600a9e09c7c5c65e670": {
      "model_module": "jupyter-js-widgets",
      "model_module_version": "~2.1.4",
      "model_name": "LayoutModel",
      "state": {
       "_model_module_version": "~2.1.4",
       "_view_module_version": "~2.1.4"
      }
     },
     "1170e152764548b8a82ffe19783a43e8": {
      "model_module": "jupyter-js-widgets",
      "model_module_version": "~2.1.4",
      "model_name": "ButtonModel",
      "state": {
       "_model_module_version": "~2.1.4",
       "_view_module_version": "~2.1.4",
       "description": "Run Interact",
       "layout": "IPY_MODEL_f9582e340faf4529847d99529f7daf83",
       "style": "IPY_MODEL_42be2eb430334af1be6f6f5626bf2e34"
      }
     },
     "1cab054c22b0435bbca55604e93f31ab": {
      "model_module": "jupyter-js-widgets",
      "model_module_version": "~2.1.4",
      "model_name": "OutputModel",
      "state": {
       "_dom_classes": [],
       "_model_module": "jupyter-js-widgets",
       "_model_module_version": "~2.1.4",
       "_view_module": "jupyter-js-widgets",
       "_view_module_version": "~2.1.4",
       "layout": "IPY_MODEL_7d42e0fbef6e4fdda33c8c453d855412",
       "msg_throttle": 1
      }
     },
     "224b4fcfbeae49d7aa373e25cb899ccf": {
      "model_module": "jupyter-js-widgets",
      "model_module_version": "~2.1.4",
      "model_name": "LayoutModel",
      "state": {
       "_model_module_version": "~2.1.4",
       "_view_module_version": "~2.1.4"
      }
     },
     "231f0dd2685f495bb37400fdfd9aeeb9": {
      "model_module": "jupyter-js-widgets",
      "model_module_version": "~2.1.4",
      "model_name": "ButtonModel",
      "state": {
       "_model_module_version": "~2.1.4",
       "_view_module_version": "~2.1.4",
       "description": "Run Interact",
       "layout": "IPY_MODEL_79a67a2f7af7474dbb3f949cf037ae11",
       "style": "IPY_MODEL_e89e1ab6fef840708945fe1c82b06b7a"
      }
     },
     "25dc1b78dc7941e0872ba7b73460767d": {
      "model_module": "jupyter-js-widgets",
      "model_module_version": "~2.1.4",
      "model_name": "LayoutModel",
      "state": {
       "_model_module_version": "~2.1.4",
       "_view_module_version": "~2.1.4"
      }
     },
     "3ddfb26d988c465b98c34da5ccef6beb": {
      "model_module": "jupyter-js-widgets",
      "model_module_version": "~2.1.4",
      "model_name": "VBoxModel",
      "state": {
       "_dom_classes": [
        "widget-interact"
       ],
       "_model_module_version": "~2.1.4",
       "_view_module_version": "~2.1.4",
       "children": [
        "IPY_MODEL_eb5dc1c886814ff6b27776ec8acb6e7b",
        "IPY_MODEL_d3b4d6aeae154648a1d7033ecf5b5b38",
        "IPY_MODEL_c343e64e5e964b17ae0d82db3576b59d",
        "IPY_MODEL_1170e152764548b8a82ffe19783a43e8",
        "IPY_MODEL_1cab054c22b0435bbca55604e93f31ab"
       ],
       "layout": "IPY_MODEL_d1a229ea3fcd4f40ba3614ba2e309702"
      }
     },
     "42be2eb430334af1be6f6f5626bf2e34": {
      "model_module": "jupyter-js-widgets",
      "model_module_version": "~2.1.4",
      "model_name": "ButtonStyleModel",
      "state": {
       "_model_module_version": "~2.1.4",
       "_view_module_version": "~2.1.4"
      }
     },
     "44f84eeccb7b44528d8ede0b35d12937": {
      "model_module": "jupyter-js-widgets",
      "model_module_version": "~2.1.4",
      "model_name": "ButtonModel",
      "state": {
       "_model_module_version": "~2.1.4",
       "_view_module_version": "~2.1.4",
       "description": "Run Interact",
       "layout": "IPY_MODEL_948986efe9424b70857365c8f0923193",
       "style": "IPY_MODEL_71bc9dd8cd3d46ba9b7855458b6191fb"
      }
     },
     "4fe31a4cc0704a0a82df25b4d8b82870": {
      "model_module": "jupyter-js-widgets",
      "model_module_version": "~2.1.4",
      "model_name": "DropdownModel",
      "state": {
       "_model_module_version": "~2.1.4",
       "_options_labels": [
        "0.8",
        "1.0",
        "1.2"
       ],
       "_view_module_version": "~2.1.4",
       "description": "A",
       "layout": "IPY_MODEL_de38441386234f50bc278207522a6435",
       "value": "1.2"
      }
     },
     "538b0a3b31074da9b1984f8bddfd07db": {
      "model_module": "jupyter-js-widgets",
      "model_module_version": "~2.1.4",
      "model_name": "DropdownModel",
      "state": {
       "_model_module_version": "~2.1.4",
       "_options_labels": [
        "0.8",
        "1.0",
        "1.2"
       ],
       "_view_module_version": "~2.1.4",
       "description": "A",
       "layout": "IPY_MODEL_a8ce753c69214324a928f5476ee55411",
       "value": "1.2"
      }
     },
     "55801dfc5a6c4f06b0e795fecb41b7ce": {
      "model_module": "jupyter-js-widgets",
      "model_module_version": "~2.1.4",
      "model_name": "LayoutModel",
      "state": {
       "_model_module_version": "~2.1.4",
       "_view_module_version": "~2.1.4"
      }
     },
     "56fceb8e837f401aa98ac9261272e5d1": {
      "model_module": "jupyter-js-widgets",
      "model_module_version": "~2.1.4",
      "model_name": "VBoxModel",
      "state": {
       "_dom_classes": [
        "widget-interact"
       ],
       "_model_module_version": "~2.1.4",
       "_view_module_version": "~2.1.4",
       "children": [
        "IPY_MODEL_a2bd085156a942c5b9399d21d9d9261d",
        "IPY_MODEL_e1a03f19c9184b9d9be12c86e9924edc",
        "IPY_MODEL_538b0a3b31074da9b1984f8bddfd07db",
        "IPY_MODEL_231f0dd2685f495bb37400fdfd9aeeb9",
        "IPY_MODEL_fbc17a8652e64bfbb7645f80fdfe3723"
       ],
       "layout": "IPY_MODEL_25dc1b78dc7941e0872ba7b73460767d"
      }
     },
     "5e8fe2c1c80c4688bee1640a4d4b5a57": {
      "model_module": "jupyter-js-widgets",
      "model_module_version": "~2.1.4",
      "model_name": "LayoutModel",
      "state": {
       "_model_module_version": "~2.1.4",
       "_view_module_version": "~2.1.4"
      }
     },
     "71bc9dd8cd3d46ba9b7855458b6191fb": {
      "model_module": "jupyter-js-widgets",
      "model_module_version": "~2.1.4",
      "model_name": "ButtonStyleModel",
      "state": {
       "_model_module_version": "~2.1.4",
       "_view_module_version": "~2.1.4"
      }
     },
     "74e84464001445e29c6d83065b32af82": {
      "model_module": "jupyter-js-widgets",
      "model_module_version": "~2.1.4",
      "model_name": "LayoutModel",
      "state": {
       "_model_module_version": "~2.1.4",
       "_view_module_version": "~2.1.4"
      }
     },
     "79a67a2f7af7474dbb3f949cf037ae11": {
      "model_module": "jupyter-js-widgets",
      "model_module_version": "~2.1.4",
      "model_name": "LayoutModel",
      "state": {
       "_model_module_version": "~2.1.4",
       "_view_module_version": "~2.1.4"
      }
     },
     "7d42e0fbef6e4fdda33c8c453d855412": {
      "model_module": "jupyter-js-widgets",
      "model_module_version": "~2.1.4",
      "model_name": "LayoutModel",
      "state": {
       "_model_module_version": "~2.1.4",
       "_view_module_version": "~2.1.4"
      }
     },
     "8b8b206747444ab2851a0f0d0ea93ddd": {
      "model_module": "jupyter-js-widgets",
      "model_module_version": "~2.1.4",
      "model_name": "OutputModel",
      "state": {
       "_dom_classes": [],
       "_model_module": "jupyter-js-widgets",
       "_model_module_version": "~2.1.4",
       "_view_module": "jupyter-js-widgets",
       "_view_module_version": "~2.1.4",
       "layout": "IPY_MODEL_ee1e76363342408da868c32e8ec7f567",
       "msg_throttle": 1
      }
     },
     "8f9f0caa533140deaa95061f945da839": {
      "model_module": "jupyter-js-widgets",
      "model_module_version": "~2.1.4",
      "model_name": "LayoutModel",
      "state": {
       "_model_module_version": "~2.1.4",
       "_view_module_version": "~2.1.4"
      }
     },
     "948986efe9424b70857365c8f0923193": {
      "model_module": "jupyter-js-widgets",
      "model_module_version": "~2.1.4",
      "model_name": "LayoutModel",
      "state": {
       "_model_module_version": "~2.1.4",
       "_view_module_version": "~2.1.4"
      }
     },
     "a2405164c91140f797266c1598dbd2c7": {
      "model_module": "jupyter-js-widgets",
      "model_module_version": "~2.1.4",
      "model_name": "DropdownModel",
      "state": {
       "_model_module_version": "~2.1.4",
       "_options_labels": [
        "10",
        "100",
        "1000",
        "10000",
        "100000",
        "1000000"
       ],
       "_view_module_version": "~2.1.4",
       "description": "C",
       "layout": "IPY_MODEL_a5d381fc1b8342ca99c469d77b537855",
       "value": "10"
      }
     },
     "a2bd085156a942c5b9399d21d9d9261d": {
      "model_module": "jupyter-js-widgets",
      "model_module_version": "~2.1.4",
      "model_name": "DropdownModel",
      "state": {
       "_model_module_version": "~2.1.4",
       "_options_labels": [
        "10000.0",
        "100000.0",
        "1000000.0",
        "10000000.0",
        "100000000.0",
        "1000000000.0"
       ],
       "_view_module_version": "~2.1.4",
       "description": "M",
       "layout": "IPY_MODEL_0538f1cac3c24600a9e09c7c5c65e670",
       "value": "10000.0"
      }
     },
     "a5d381fc1b8342ca99c469d77b537855": {
      "model_module": "jupyter-js-widgets",
      "model_module_version": "~2.1.4",
      "model_name": "LayoutModel",
      "state": {
       "_model_module_version": "~2.1.4",
       "_view_module_version": "~2.1.4"
      }
     },
     "a8ce753c69214324a928f5476ee55411": {
      "model_module": "jupyter-js-widgets",
      "model_module_version": "~2.1.4",
      "model_name": "LayoutModel",
      "state": {
       "_model_module_version": "~2.1.4",
       "_view_module_version": "~2.1.4"
      }
     },
     "c343e64e5e964b17ae0d82db3576b59d": {
      "model_module": "jupyter-js-widgets",
      "model_module_version": "~2.1.4",
      "model_name": "DropdownModel",
      "state": {
       "_model_module_version": "~2.1.4",
       "_options_labels": [
        "0.8",
        "1.0"
       ],
       "_view_module_version": "~2.1.4",
       "description": "A",
       "layout": "IPY_MODEL_55801dfc5a6c4f06b0e795fecb41b7ce",
       "value": "0.8"
      }
     },
     "d1a229ea3fcd4f40ba3614ba2e309702": {
      "model_module": "jupyter-js-widgets",
      "model_module_version": "~2.1.4",
      "model_name": "LayoutModel",
      "state": {
       "_model_module_version": "~2.1.4",
       "_view_module_version": "~2.1.4"
      }
     },
     "d3b4d6aeae154648a1d7033ecf5b5b38": {
      "model_module": "jupyter-js-widgets",
      "model_module_version": "~2.1.4",
      "model_name": "DropdownModel",
      "state": {
       "_model_module_version": "~2.1.4",
       "_options_labels": [
        "10",
        "100",
        "1000",
        "10000",
        "100000",
        "1000000"
       ],
       "_view_module_version": "~2.1.4",
       "description": "C",
       "layout": "IPY_MODEL_8f9f0caa533140deaa95061f945da839",
       "value": "10"
      }
     },
     "d67198b114324e32a0f7933b06fdf892": {
      "model_module": "jupyter-js-widgets",
      "model_module_version": "~2.1.4",
      "model_name": "DropdownModel",
      "state": {
       "_model_module_version": "~2.1.4",
       "_options_labels": [
        "10000.0",
        "100000.0",
        "1000000.0",
        "10000000.0",
        "100000000.0",
        "1000000000.0"
       ],
       "_view_module_version": "~2.1.4",
       "description": "M",
       "layout": "IPY_MODEL_f05a611619a74588b995f175b7d6c976",
       "value": "10000.0"
      }
     },
     "de38441386234f50bc278207522a6435": {
      "model_module": "jupyter-js-widgets",
      "model_module_version": "~2.1.4",
      "model_name": "LayoutModel",
      "state": {
       "_model_module_version": "~2.1.4",
       "_view_module_version": "~2.1.4"
      }
     },
     "e1a03f19c9184b9d9be12c86e9924edc": {
      "model_module": "jupyter-js-widgets",
      "model_module_version": "~2.1.4",
      "model_name": "DropdownModel",
      "state": {
       "_model_module_version": "~2.1.4",
       "_options_labels": [
        "10",
        "100",
        "1000",
        "10000",
        "100000",
        "1000000"
       ],
       "_view_module_version": "~2.1.4",
       "description": "C",
       "layout": "IPY_MODEL_5e8fe2c1c80c4688bee1640a4d4b5a57",
       "value": "10"
      }
     },
     "e89e1ab6fef840708945fe1c82b06b7a": {
      "model_module": "jupyter-js-widgets",
      "model_module_version": "~2.1.4",
      "model_name": "ButtonStyleModel",
      "state": {
       "_model_module_version": "~2.1.4",
       "_view_module_version": "~2.1.4"
      }
     },
     "eb5dc1c886814ff6b27776ec8acb6e7b": {
      "model_module": "jupyter-js-widgets",
      "model_module_version": "~2.1.4",
      "model_name": "DropdownModel",
      "state": {
       "_model_module_version": "~2.1.4",
       "_options_labels": [
        "10000.0",
        "100000.0",
        "1000000.0",
        "10000000.0",
        "100000000.0",
        "1000000000.0"
       ],
       "_view_module_version": "~2.1.4",
       "description": "M",
       "layout": "IPY_MODEL_74e84464001445e29c6d83065b32af82",
       "value": "10000.0"
      }
     },
     "ee1e76363342408da868c32e8ec7f567": {
      "model_module": "jupyter-js-widgets",
      "model_module_version": "~2.1.4",
      "model_name": "LayoutModel",
      "state": {
       "_model_module_version": "~2.1.4",
       "_view_module_version": "~2.1.4"
      }
     },
     "f012f3c766ca4809839094cb20947bab": {
      "model_module": "jupyter-js-widgets",
      "model_module_version": "~2.1.4",
      "model_name": "VBoxModel",
      "state": {
       "_dom_classes": [
        "widget-interact"
       ],
       "_model_module_version": "~2.1.4",
       "_view_module_version": "~2.1.4",
       "children": [
        "IPY_MODEL_d67198b114324e32a0f7933b06fdf892",
        "IPY_MODEL_a2405164c91140f797266c1598dbd2c7",
        "IPY_MODEL_4fe31a4cc0704a0a82df25b4d8b82870",
        "IPY_MODEL_44f84eeccb7b44528d8ede0b35d12937",
        "IPY_MODEL_8b8b206747444ab2851a0f0d0ea93ddd"
       ],
       "layout": "IPY_MODEL_224b4fcfbeae49d7aa373e25cb899ccf"
      }
     },
     "f05a611619a74588b995f175b7d6c976": {
      "model_module": "jupyter-js-widgets",
      "model_module_version": "~2.1.4",
      "model_name": "LayoutModel",
      "state": {
       "_model_module_version": "~2.1.4",
       "_view_module_version": "~2.1.4"
      }
     },
     "f635bd0ffebb414cb974aaef4e78afd3": {
      "model_module": "jupyter-js-widgets",
      "model_module_version": "~2.1.4",
      "model_name": "LayoutModel",
      "state": {
       "_model_module_version": "~2.1.4",
       "_view_module_version": "~2.1.4"
      }
     },
     "f9582e340faf4529847d99529f7daf83": {
      "model_module": "jupyter-js-widgets",
      "model_module_version": "~2.1.4",
      "model_name": "LayoutModel",
      "state": {
       "_model_module_version": "~2.1.4",
       "_view_module_version": "~2.1.4"
      }
     },
     "fbc17a8652e64bfbb7645f80fdfe3723": {
      "model_module": "jupyter-js-widgets",
      "model_module_version": "~2.1.4",
      "model_name": "OutputModel",
      "state": {
       "_dom_classes": [],
       "_model_module": "jupyter-js-widgets",
       "_model_module_version": "~2.1.4",
       "_view_module": "jupyter-js-widgets",
       "_view_module_version": "~2.1.4",
       "layout": "IPY_MODEL_f635bd0ffebb414cb974aaef4e78afd3",
       "msg_throttle": 1
      }
     }
    },
    "version_major": 1,
    "version_minor": 0
   }
  }
 },
 "nbformat": 4,
 "nbformat_minor": 2
}
